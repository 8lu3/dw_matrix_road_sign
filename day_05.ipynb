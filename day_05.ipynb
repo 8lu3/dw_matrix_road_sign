{
  "nbformat": 4,
  "nbformat_minor": 0,
  "metadata": {
    "colab": {
      "name": "day_05.ipynb",
      "provenance": [],
      "collapsed_sections": [],
      "mount_file_id": "1mBrT_riOVUioH-AknB7rbwTxq7wPKHUR",
      "authorship_tag": "ABX9TyMkg82+S/4womhsk1C9OIj5",
      "include_colab_link": true
    },
    "kernelspec": {
      "name": "python3",
      "display_name": "Python 3"
    },
    "accelerator": "GPU"
  },
  "cells": [
    {
      "cell_type": "markdown",
      "metadata": {
        "id": "view-in-github",
        "colab_type": "text"
      },
      "source": [
        "<a href=\"https://colab.research.google.com/github/8lu3/dw_matrix_road_sign/blob/master/day_05.ipynb\" target=\"_parent\"><img src=\"https://colab.research.google.com/assets/colab-badge.svg\" alt=\"Open In Colab\"/></a>"
      ]
    },
    {
      "cell_type": "code",
      "metadata": {
        "id": "sbhl-zPrQ5O0",
        "colab_type": "code",
        "colab": {
          "base_uri": "https://localhost:8080/",
          "height": 51
        },
        "outputId": "e27fa4dc-e37a-42dd-f900-581b6591e159"
      },
      "source": [
        "import pandas as pd\n",
        "import numpy as np\n",
        "import os\n",
        "import datetime\n",
        "\n",
        "import tensorflow as tf\n",
        "from tensorflow.keras.models import Sequential\n",
        "from tensorflow.keras.layers import Conv2D, MaxPool2D, Dense, Flatten, Dropout\n",
        "from tensorflow.keras.utils import to_categorical\n",
        "\n",
        "import matplotlib.pyplot as plt\n",
        "from skimage import color,exposure\n",
        "\n",
        "from sklearn.metrics import accuracy_score\n",
        "\n",
        "from hyperopt import hp, STATUS_OK, tpe, Trials, fmin\n",
        "\n",
        "%load_ext tensorboard"
      ],
      "execution_count": 10,
      "outputs": [
        {
          "output_type": "stream",
          "text": [
            "The tensorboard extension is already loaded. To reload it, use:\n",
            "  %reload_ext tensorboard\n"
          ],
          "name": "stdout"
        }
      ]
    },
    {
      "cell_type": "code",
      "metadata": {
        "id": "2H37OKliRbTK",
        "colab_type": "code",
        "colab": {
          "base_uri": "https://localhost:8080/",
          "height": 34
        },
        "outputId": "e49e1641-15d3-4652-ffcf-1bb271831b0a"
      },
      "source": [
        "cd '/content/drive/My Drive/Colab Notebooks/matrix/matrix_three/dw_matrix_road_sign'"
      ],
      "execution_count": 3,
      "outputs": [
        {
          "output_type": "stream",
          "text": [
            "/content/drive/My Drive/Colab Notebooks/matrix/matrix_three/dw_matrix_road_sign\n"
          ],
          "name": "stdout"
        }
      ]
    },
    {
      "cell_type": "code",
      "metadata": {
        "id": "QEi0GZRzR_a7",
        "colab_type": "code",
        "colab": {}
      },
      "source": [
        "train = pd.read_pickle('data/train.p')\n",
        "test = pd.read_pickle('data/test.p')\n",
        "\n",
        "X_train, y_train = train['features'],train['labels']\n",
        "X_test, y_test = test['features'],test['labels']\n",
        "\n",
        "if y_train.ndim == 1: y_train=to_categorical(y_train)\n",
        "if y_test.ndim == 1: y_test=to_categorical(y_test)\n",
        "\n",
        "input_shape = X_train.shape[1:]\n",
        "num_classes = y_train.shape[1]"
      ],
      "execution_count": 0,
      "outputs": []
    },
    {
      "cell_type": "code",
      "metadata": {
        "id": "QFuyt2IDSbSZ",
        "colab_type": "code",
        "colab": {}
      },
      "source": [
        "def train_model(model,X_train,y_train,params_fit={}):\n",
        "  model.compile(loss='categorical_crossentropy',optimizer='Adam',metrics=['accuracy'])\n",
        "\n",
        "  logdir = os.path.join(\"logs\",datetime.datetime.now().strftime(\"%Y%m%d-%H%M%S\"))\n",
        "  tensorboard_callback = tf.keras.callbacks.TensorBoard(logdir,histogram_freq=1)\n",
        "\n",
        "  model.fit(\n",
        "      X_train,\n",
        "      y_train,\n",
        "      batch_size=params_fit.get('batch_size',128),\n",
        "      epochs=params_fit.get('epochs',5),\n",
        "      verbose=params_fit.get('verbose',1),\n",
        "      validation_data=params_fit.get('validation_data',(X_train,y_train)),\n",
        "      callbacks=[tensorboard_callback]\n",
        "      )\n",
        "  \n",
        "  return model\n",
        "\n",
        "def predict(model_trained,X_test,y_test,scoring=accuracy_score):\n",
        "  y_test_norm = np.argmax(y_test,axis=1)\n",
        "  y_pred_prob = model_trained.predict(X_test)\n",
        "  y_pred = np.argmax(y_pred_prob,axis=1)\n",
        "  \n",
        "  return scoring(y_test_norm,y_pred)\n",
        "\n",
        "def train_and_predict(model):\n",
        "  model_trained = train_model(model,X_train,y_train)\n",
        "  return predict(model_trained,X_test,y_test)"
      ],
      "execution_count": 0,
      "outputs": []
    },
    {
      "cell_type": "code",
      "metadata": {
        "id": "TOyUkDVWS3Gt",
        "colab_type": "code",
        "colab": {}
      },
      "source": [
        "def get_cnn_v5(input_shape,num_classes):\n",
        "  return Sequential([\n",
        "    Conv2D(filters=32,kernel_size=(3,3),activation='relu',input_shape=input_shape),\n",
        "    Conv2D(filters=32,kernel_size=(3,3),activation='relu',padding='same'),\n",
        "    MaxPool2D(),\n",
        "    Dropout(0.3),\n",
        "\n",
        "    Conv2D(filters=64,kernel_size=(3,3),activation='relu',padding='same'),\n",
        "    Conv2D(filters=64,kernel_size=(3,3),activation='relu'),\n",
        "    MaxPool2D(),\n",
        "    Dropout(0.3),\n",
        "\n",
        "    Conv2D(filters=64,kernel_size=(3,3),activation='relu',padding='same'),\n",
        "    Conv2D(filters=64,kernel_size=(3,3),activation='relu'),\n",
        "    MaxPool2D(),\n",
        "    Dropout(0.3),\n",
        "\n",
        "    Flatten(),\n",
        "\n",
        "    Dense(1024,activation='relu'),\n",
        "    Dropout(0.3),\n",
        "\n",
        "    Dense(1024,activation='relu'),\n",
        "    Dropout(0.3),\n",
        "\n",
        "    Dense(num_classes,activation='softmax'),\n",
        "  ])"
      ],
      "execution_count": 0,
      "outputs": []
    },
    {
      "cell_type": "code",
      "metadata": {
        "id": "mlwp_7W6TIlS",
        "colab_type": "code",
        "colab": {
          "base_uri": "https://localhost:8080/",
          "height": 204
        },
        "outputId": "aa828096-6cff-48e6-de92-3aba750a622a"
      },
      "source": [
        "train_and_predict( get_cnn_v5(input_shape,num_classes) )"
      ],
      "execution_count": 7,
      "outputs": [
        {
          "output_type": "stream",
          "text": [
            "Epoch 1/5\n",
            "272/272 [==============================] - 4s 17ms/step - loss: 2.4784 - accuracy: 0.3081 - val_loss: 1.0290 - val_accuracy: 0.6720\n",
            "Epoch 2/5\n",
            "272/272 [==============================] - 4s 15ms/step - loss: 0.8864 - accuracy: 0.7150 - val_loss: 0.2148 - val_accuracy: 0.9373\n",
            "Epoch 3/5\n",
            "272/272 [==============================] - 4s 15ms/step - loss: 0.4178 - accuracy: 0.8714 - val_loss: 0.0948 - val_accuracy: 0.9721\n",
            "Epoch 4/5\n",
            "272/272 [==============================] - 4s 15ms/step - loss: 0.2597 - accuracy: 0.9206 - val_loss: 0.0484 - val_accuracy: 0.9858\n",
            "Epoch 5/5\n",
            "272/272 [==============================] - 4s 15ms/step - loss: 0.1937 - accuracy: 0.9418 - val_loss: 0.0462 - val_accuracy: 0.9872\n"
          ],
          "name": "stdout"
        },
        {
          "output_type": "execute_result",
          "data": {
            "text/plain": [
              "0.9684807256235828"
            ]
          },
          "metadata": {
            "tags": []
          },
          "execution_count": 7
        }
      ]
    },
    {
      "cell_type": "code",
      "metadata": {
        "id": "VzBVtEpzWyTM",
        "colab_type": "code",
        "colab": {}
      },
      "source": [
        "def get_model(params):\n",
        "  return Sequential([\n",
        "    Conv2D(filters=32,kernel_size=(3,3),activation='relu',input_shape=input_shape),\n",
        "    Conv2D(filters=32,kernel_size=(3,3),activation='relu',padding='same'),\n",
        "    MaxPool2D(),\n",
        "    Dropout(params['dropout_cnn_block_one']),\n",
        "\n",
        "    Conv2D(filters=64,kernel_size=(3,3),activation='relu',padding='same'),\n",
        "    Conv2D(filters=64,kernel_size=(3,3),activation='relu'),\n",
        "    MaxPool2D(),\n",
        "    Dropout(params['dropout_cnn_block_two']),\n",
        "\n",
        "    Conv2D(filters=128,kernel_size=(3,3),activation='relu',padding='same'),\n",
        "    Conv2D(filters=128,kernel_size=(3,3),activation='relu'),\n",
        "    MaxPool2D(),\n",
        "    Dropout(params['dropout_cnn_block_three']),\n",
        "\n",
        "    Flatten(),\n",
        "\n",
        "    Dense(1024,activation='relu'),\n",
        "    Dropout(params['dropout_dense_block_one']),\n",
        "\n",
        "    Dense(1024,activation='relu'),\n",
        "    Dropout(params['dropout_dense_block_two']),\n",
        "\n",
        "    Dense(num_classes,activation='softmax'),\n",
        "  ])"
      ],
      "execution_count": 0,
      "outputs": []
    },
    {
      "cell_type": "code",
      "metadata": {
        "id": "cIcfV1TWTZ0L",
        "colab_type": "code",
        "colab": {}
      },
      "source": [
        "def func_obj(params):\n",
        "  model = get_model(params)\n",
        "  model.compile(loss='categorical_crossentropy',optimizer='Adam',metrics=['accuracy'])\n",
        "\n",
        "  model.fit(\n",
        "      X_train,\n",
        "      y_train,\n",
        "      batch_size=int(params.get('batch_size',128)),\n",
        "      epochs=5,\n",
        "      verbose=0\n",
        "      )\n",
        "  score = model.evaluate(X_test,y_test,verbose=0)\n",
        "  accuracy=score[1]\n",
        "  print(params, 'accuracy{}'.format(accuracy))\n",
        "  \n",
        "  return {'loss':-accuracy,'status':STATUS_OK,'model':model}"
      ],
      "execution_count": 0,
      "outputs": []
    },
    {
      "cell_type": "code",
      "metadata": {
        "id": "KyTwdXpYVGCQ",
        "colab_type": "code",
        "colab": {
          "base_uri": "https://localhost:8080/",
          "height": 1000
        },
        "outputId": "0eb2a1b8-d842-45db-815c-5f5dddfc5b26"
      },
      "source": [
        "space = {\n",
        "    'batch_size': hp.quniform('batch_size',100,200,10),\n",
        "    'dropout_cnn_block_one': hp.uniform('dropout_cnn_block_one',0.3,0.5),\n",
        "    'dropout_cnn_block_two': hp.uniform('dropout_cnn_block_two',0.3,0.5),\n",
        "    'dropout_cnn_block_three': hp.uniform('dropout_cnn_block_three',0.3,0.5),\n",
        "    'dropout_dense_block_one': hp.uniform('dropout_dense_block_one',0.3,0.7),\n",
        "    'dropout_dense_block_two': hp.uniform('dropout_dense_block_two',0.3,0.7),\n",
        "}\n",
        "\n",
        "best = fmin(\n",
        "    func_obj,\n",
        "    space,\n",
        "    tpe.suggest,\n",
        "    30,\n",
        "    Trials()\n",
        ")"
      ],
      "execution_count": 23,
      "outputs": [
        {
          "output_type": "stream",
          "text": [
            "{'batch_size': 160.0, 'dropout_cnn_block_one': 0.4235116177312659, 'dropout_cnn_block_three': 0.45299414493852985, 'dropout_cnn_block_two': 0.4828248437411796, 'dropout_dense_block_one': 0.49502328227134296, 'dropout_dense_block_two': 0.34924411958977086}\n",
            "accuracy0.9061224460601807\n",
            "{'batch_size': 120.0, 'dropout_cnn_block_one': 0.47322722359148317, 'dropout_cnn_block_three': 0.31259764842508636, 'dropout_cnn_block_two': 0.4779417071751756, 'dropout_dense_block_one': 0.41174949215524675, 'dropout_dense_block_two': 0.45977421181605294}\n",
            "accuracy0.9442176818847656\n",
            "{'batch_size': 140.0, 'dropout_cnn_block_one': 0.3912619480727385, 'dropout_cnn_block_three': 0.3585759520800883, 'dropout_cnn_block_two': 0.44073742610771516, 'dropout_dense_block_one': 0.5085249993896763, 'dropout_dense_block_two': 0.5465810662433893}\n",
            "accuracy0.9505668878555298\n",
            "{'batch_size': 150.0, 'dropout_cnn_block_one': 0.47810663339602155, 'dropout_cnn_block_three': 0.3107843307374302, 'dropout_cnn_block_two': 0.3048307583495542, 'dropout_dense_block_one': 0.6080957332775634, 'dropout_dense_block_two': 0.5046029641366877}\n",
            "accuracy0.9455782175064087\n",
            "{'batch_size': 180.0, 'dropout_cnn_block_one': 0.33861812558825255, 'dropout_cnn_block_three': 0.34798010621019515, 'dropout_cnn_block_two': 0.3053246967087379, 'dropout_dense_block_one': 0.5926927218852611, 'dropout_dense_block_two': 0.6895673495478584}\n",
            "accuracy0.9276643991470337\n",
            "{'batch_size': 150.0, 'dropout_cnn_block_one': 0.4220276039527253, 'dropout_cnn_block_three': 0.37418474386749667, 'dropout_cnn_block_two': 0.41549912988255977, 'dropout_dense_block_one': 0.6558337864341027, 'dropout_dense_block_two': 0.38284483023633464}\n",
            "accuracy0.866439938545227\n",
            "{'batch_size': 190.0, 'dropout_cnn_block_one': 0.49981680551179997, 'dropout_cnn_block_three': 0.31516469848998946, 'dropout_cnn_block_two': 0.3618696052645299, 'dropout_dense_block_one': 0.42897881612706096, 'dropout_dense_block_two': 0.5858352068857939}\n",
            "accuracy0.9122449159622192\n",
            "{'batch_size': 120.0, 'dropout_cnn_block_one': 0.31330819549760996, 'dropout_cnn_block_three': 0.35496952400521237, 'dropout_cnn_block_two': 0.38371594441665513, 'dropout_dense_block_one': 0.4545360336588271, 'dropout_dense_block_two': 0.3214018093113588}\n",
            "accuracy0.9501133561134338\n",
            "{'batch_size': 130.0, 'dropout_cnn_block_one': 0.40550289243630355, 'dropout_cnn_block_three': 0.48770761428750126, 'dropout_cnn_block_two': 0.36696975062231163, 'dropout_dense_block_one': 0.4368083261353073, 'dropout_dense_block_two': 0.5924222307399318}\n",
            "accuracy0.9444444179534912\n",
            "{'batch_size': 140.0, 'dropout_cnn_block_one': 0.44793731083904476, 'dropout_cnn_block_three': 0.3563869230084892, 'dropout_cnn_block_two': 0.30133498583703444, 'dropout_dense_block_one': 0.4089074729899865, 'dropout_dense_block_two': 0.41393773091905}\n",
            "accuracy0.9673469662666321\n",
            "{'batch_size': 130.0, 'dropout_cnn_block_one': 0.3570201379555183, 'dropout_cnn_block_three': 0.44617755572619755, 'dropout_cnn_block_two': 0.3866465360049016, 'dropout_dense_block_one': 0.4609736960599986, 'dropout_dense_block_two': 0.39192617081777253}\n",
            "accuracy0.9174603223800659\n",
            "{'batch_size': 110.0, 'dropout_cnn_block_one': 0.42147154302760415, 'dropout_cnn_block_three': 0.49062452757313096, 'dropout_cnn_block_two': 0.34772510437965415, 'dropout_dense_block_one': 0.4804836069079118, 'dropout_dense_block_two': 0.43152478443813586}\n",
            "accuracy0.9283446669578552\n",
            "{'batch_size': 120.0, 'dropout_cnn_block_one': 0.39713247975153376, 'dropout_cnn_block_three': 0.4652623538699, 'dropout_cnn_block_two': 0.4653125205473785, 'dropout_dense_block_one': 0.6923289891638877, 'dropout_dense_block_two': 0.3629482579913402}\n",
            "accuracy0.8512471914291382\n",
            "{'batch_size': 190.0, 'dropout_cnn_block_one': 0.48332207668121663, 'dropout_cnn_block_three': 0.31839094133266005, 'dropout_cnn_block_two': 0.44192752653266776, 'dropout_dense_block_one': 0.6479520845003264, 'dropout_dense_block_two': 0.3498819396616988}\n",
            "accuracy0.9369614720344543\n",
            "{'batch_size': 120.0, 'dropout_cnn_block_one': 0.3631531352798769, 'dropout_cnn_block_three': 0.4828458002816979, 'dropout_cnn_block_two': 0.36572443038675295, 'dropout_dense_block_one': 0.5738968108975627, 'dropout_dense_block_two': 0.6581874519352688}\n",
            "accuracy0.8154194951057434\n",
            "{'batch_size': 130.0, 'dropout_cnn_block_one': 0.42156911781233897, 'dropout_cnn_block_three': 0.3452975998130289, 'dropout_cnn_block_two': 0.3595058061522882, 'dropout_dense_block_one': 0.5284313312161164, 'dropout_dense_block_two': 0.36498300523899685}\n",
            "accuracy0.936734676361084\n",
            "{'batch_size': 190.0, 'dropout_cnn_block_one': 0.4539353553673083, 'dropout_cnn_block_three': 0.47147551332145177, 'dropout_cnn_block_two': 0.3707035720096328, 'dropout_dense_block_one': 0.33859964955633015, 'dropout_dense_block_two': 0.6171558899559488}\n",
            "accuracy0.8886621594429016\n",
            "{'batch_size': 110.0, 'dropout_cnn_block_one': 0.35263032656712845, 'dropout_cnn_block_three': 0.36560438491450137, 'dropout_cnn_block_two': 0.39583481661115216, 'dropout_dense_block_one': 0.6616007870230418, 'dropout_dense_block_two': 0.44838325020050585}\n",
            "accuracy0.9251700639724731\n",
            "{'batch_size': 100.0, 'dropout_cnn_block_one': 0.37958476064870084, 'dropout_cnn_block_three': 0.3576427017614786, 'dropout_cnn_block_two': 0.4186803853667331, 'dropout_dense_block_one': 0.33432208897693066, 'dropout_dense_block_two': 0.34944468164680137}\n",
            "accuracy0.9514739513397217\n",
            "{'batch_size': 140.0, 'dropout_cnn_block_one': 0.38597105980593843, 'dropout_cnn_block_three': 0.30061635321047514, 'dropout_cnn_block_two': 0.33103777752718166, 'dropout_dense_block_one': 0.5148835975098603, 'dropout_dense_block_two': 0.33430560245653257}\n",
            "accuracy0.9505668878555298\n",
            "{'batch_size': 170.0, 'dropout_cnn_block_one': 0.44911491677030435, 'dropout_cnn_block_three': 0.41151471494331243, 'dropout_cnn_block_two': 0.41962726244856846, 'dropout_dense_block_one': 0.31920591020087435, 'dropout_dense_block_two': 0.3010621807899881}\n",
            "accuracy0.9451247453689575\n",
            "{'batch_size': 100.0, 'dropout_cnn_block_one': 0.448622624294398, 'dropout_cnn_block_three': 0.3872824560133121, 'dropout_cnn_block_two': 0.32408059012538853, 'dropout_dense_block_one': 0.3782210979558735, 'dropout_dense_block_two': 0.4198469044691919}\n",
            "accuracy0.9757369756698608\n",
            "{'batch_size': 170.0, 'dropout_cnn_block_one': 0.4492990557588377, 'dropout_cnn_block_three': 0.4013320206235789, 'dropout_cnn_block_two': 0.3243686570401103, 'dropout_dense_block_one': 0.38465282925631605, 'dropout_dense_block_two': 0.4917308451756577}\n",
            "accuracy0.960544228553772\n",
            "{'batch_size': 100.0, 'dropout_cnn_block_one': 0.4967209461011434, 'dropout_cnn_block_three': 0.38337691776121796, 'dropout_cnn_block_two': 0.32359399228120267, 'dropout_dense_block_one': 0.3812596725895072, 'dropout_dense_block_two': 0.4190557596367136}\n",
            "accuracy0.8938775658607483\n",
            "{'batch_size': 160.0, 'dropout_cnn_block_one': 0.4622949005925883, 'dropout_cnn_block_three': 0.4217460219269169, 'dropout_cnn_block_two': 0.30197721057329624, 'dropout_dense_block_one': 0.3002639849291756, 'dropout_dense_block_two': 0.48659920510655263}\n",
            "accuracy0.9659863710403442\n",
            "{'batch_size': 110.0, 'dropout_cnn_block_one': 0.4398817199383892, 'dropout_cnn_block_three': 0.3313081773553914, 'dropout_cnn_block_two': 0.33950969166025513, 'dropout_dense_block_one': 0.3732473341778275, 'dropout_dense_block_two': 0.5333402708524986}\n",
            "accuracy0.958276629447937\n",
            "{'batch_size': 140.0, 'dropout_cnn_block_one': 0.4355001253991877, 'dropout_cnn_block_three': 0.4233871233668613, 'dropout_cnn_block_two': 0.30265419768127405, 'dropout_dense_block_one': 0.35856390055534615, 'dropout_dense_block_two': 0.42285671471685043}\n",
            "accuracy0.9185941219329834\n",
            "{'batch_size': 100.0, 'dropout_cnn_block_one': 0.4653444984856315, 'dropout_cnn_block_three': 0.3870484328359808, 'dropout_cnn_block_two': 0.3186159649437673, 'dropout_dense_block_one': 0.40748787540823883, 'dropout_dense_block_two': 0.3953614065544649}\n",
            "accuracy0.9684807062149048\n",
            "{'batch_size': 100.0, 'dropout_cnn_block_one': 0.49060683494926616, 'dropout_cnn_block_three': 0.386513367374312, 'dropout_cnn_block_two': 0.3186878916088104, 'dropout_dense_block_one': 0.30923894605269747, 'dropout_dense_block_two': 0.3009632013521417}\n",
            "accuracy0.9058957099914551\n",
            "{'batch_size': 110.0, 'dropout_cnn_block_one': 0.4687113569894999, 'dropout_cnn_block_three': 0.44432101633287124, 'dropout_cnn_block_two': 0.34889312838561665, 'dropout_dense_block_one': 0.5475094309629795, 'dropout_dense_block_two': 0.4648219241627929}\n",
            "accuracy0.8678004741668701\n",
            "100%|██████████| 30/30 [06:00<00:00, 12.03s/it, best loss: -0.9757369756698608]\n"
          ],
          "name": "stdout"
        }
      ]
    },
    {
      "cell_type": "code",
      "metadata": {
        "id": "uUhNbs1kWGWX",
        "colab_type": "code",
        "colab": {}
      },
      "source": [
        ""
      ],
      "execution_count": 0,
      "outputs": []
    }
  ]
}